{
 "cells": [
  {
   "cell_type": "code",
   "execution_count": 14,
   "metadata": {},
   "outputs": [],
   "source": [
    "import tensorflow as tf\n",
    "import tensorflow_hub as hub\n",
    "import numpy as np\n",
    "import csv\n",
    "import os\n",
    "\n",
    "import matplotlib.pyplot as plt\n",
    "from IPython.display import Audio\n",
    "from scipy.io import wavfile\n",
    "from pydub import AudioSegment"
   ]
  },
  {
   "cell_type": "code",
   "execution_count": 10,
   "metadata": {},
   "outputs": [],
   "source": [
    "# Load the model.\n",
    "model = hub.load('https://tfhub.dev/google/yamnet/1')"
   ]
  },
  {
   "cell_type": "code",
   "execution_count": 11,
   "metadata": {},
   "outputs": [],
   "source": [
    "# Find the name of the class with the top score when mean-aggregated across frames.\n",
    "def class_names_from_csv(class_map_csv_text):\n",
    "  \"\"\"Returns list of class names corresponding to score vector.\"\"\"\n",
    "  class_names = []\n",
    "  with tf.io.gfile.GFile(class_map_csv_text) as csvfile:\n",
    "    reader = csv.DictReader(csvfile)\n",
    "    for row in reader:\n",
    "      class_names.append(row['display_name'])\n",
    "\n",
    "  return class_names\n",
    "\n",
    "class_map_path = model.class_map_path().numpy()\n",
    "class_names = class_names_from_csv(class_map_path)\n"
   ]
  },
  {
   "cell_type": "code",
   "execution_count": 7,
   "metadata": {},
   "outputs": [],
   "source": [
    "#wav_file_name = 'speech_whistling2.wav'\n",
    "wav_file_name = '/home/mdv/programming/personal/Pickhacks2024/Screaming girl on slingshot-[AudioTrimmer.com].wav'\n",
    "# wav_file_name = 'miaow_16k.wav'\n",
    "sample_rate, wav_data = wavfile.read(wav_file_name, 'rb')\n",
    "\n",
    "waveform = wav_data / tf.int16.max"
   ]
  },
  {
   "cell_type": "code",
   "execution_count": 12,
   "metadata": {},
   "outputs": [],
   "source": [
    "# def upload_audio():\n",
    "#     audio_file = request.files['file']\n",
    "#     # Save the uploaded file\n",
    "#     file_path = 'uploads/' + audio_file.filename\n",
    "#     audio_file.save(file_path)\n",
    "\n",
    "#     # Convert to mono and resample to 16kHz if necessary\n",
    "#     converted_file_path = convert_audio(file_path)\n",
    "    \n",
    "#     return ({\"file_path\": converted_file_path})\n",
    "\n",
    "def convert_audio(file_path):\n",
    "    sound = AudioSegment.from_file(file_path)\n",
    "    # Ensure mono channel\n",
    "    sound = sound.set_channels(1)\n",
    "    # Ensure 16kHz sample rate\n",
    "    sound = sound.set_frame_rate(16000)\n",
    "    # Save the converted audio\n",
    "    converted_file_path = 'uploads/converted_' + os.path.basename(file_path)\n",
    "    sound.export(converted_file_path, format=\"wav\")\n",
    "    return converted_file_path"
   ]
  },
  {
   "cell_type": "code",
   "execution_count": 16,
   "metadata": {},
   "outputs": [],
   "source": [
    "wav_file_name = '/home/mdv/programming/personal/Pickhacks2024/Screaming girl on slingshot-[AudioTrimmer.com].wav'\n",
    "conv_file_path = convert_audio(wav_file_name)"
   ]
  },
  {
   "cell_type": "code",
   "execution_count": null,
   "metadata": {},
   "outputs": [],
   "source": [
    "sample_rate, wav_data = wavfile.read(conv_file_path, 'rb')\n",
    "\n",
    "waveform = wav_data / tf.int16.max\n",
    "\n",
    "# Run the model, check the output.\n",
    "scores, embeddings, spectrogram = model(waveform)\n",
    "scores_np = scores.numpy()\n",
    "spectrogram_np = spectrogram.numpy()\n",
    "infered_class = class_names[scores_np.mean(axis=0).argmax()]\n",
    "# print(f'The main sound is: {infered_class}')\n",
    "print(infered_class)\n"
   ]
  },
  {
   "cell_type": "code",
   "execution_count": 36,
   "metadata": {},
   "outputs": [
    {
     "name": "stdout",
     "output_type": "stream",
     "text": [
      "Top 10 labels:\n",
      "Water: 0.1983717828989029\n",
      "Ocean: 0.1787852644920349\n",
      "Screaming: 0.1637938916683197\n",
      "Waves, surf: 0.1486632227897644\n",
      "Splash, splatter: 0.10543322563171387\n",
      "Slosh: 0.09673410654067993\n",
      "Speech: 0.0707528218626976\n",
      "Liquid: 0.06571026146411896\n",
      "Whistle: 0.05388862267136574\n",
      "Whistling: 0.053471896797418594\n"
     ]
    }
   ],
   "source": [
    "# Run the model, check the output.\n",
    "scores, embeddings, spectrogram = model(waveform)\n",
    "\n",
    "# Convert scores to numpy array\n",
    "scores_np = scores.numpy()\n",
    "\n",
    "# Get the indices of top 10 labels with highest scores\n",
    "top_10_indices = scores_np.mean(axis=0).argsort()[-10:][::-1]\n",
    "\n",
    "# Print the top 10 labels and their probabilities\n",
    "print(\"Top 10 labels:\")\n",
    "for idx in top_10_indices:\n",
    "    label = class_names[idx]\n",
    "    probability = scores_np.mean(axis=0)[idx]\n",
    "    print(f\"{label}: {probability}\")\n"
   ]
  }
 ],
 "metadata": {
  "kernelspec": {
   "display_name": "Python 3",
   "language": "python",
   "name": "python3"
  },
  "language_info": {
   "codemirror_mode": {
    "name": "ipython",
    "version": 3
   },
   "file_extension": ".py",
   "mimetype": "text/x-python",
   "name": "python",
   "nbconvert_exporter": "python",
   "pygments_lexer": "ipython3",
   "version": "3.12.2"
  }
 },
 "nbformat": 4,
 "nbformat_minor": 2
}
